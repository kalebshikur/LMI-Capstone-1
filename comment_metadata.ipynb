{
 "cells": [
  {
   "cell_type": "code",
   "execution_count": null,
   "metadata": {},
   "outputs": [],
   "source": [
    "import pandas as pd\n",
    "import numpy as np"
   ]
  },
  {
   "cell_type": "code",
   "execution_count": null,
   "metadata": {},
   "outputs": [],
   "source": [
    "metadata_url = \"https://mikeanders.org/data/CMS/CMS-2018-0101-0001/CMS-1701-P%20Comment%20MetaData.csv\"\n",
    "data = pd.read_csv(metadata_url, usecols=range(0,36))[:469] #ignore last few columns and blank rows at end of csv \n",
    "data = data.rename(columns=lambda x: x.strip()) #strip whitespace from columns"
   ]
  },
  {
   "cell_type": "code",
   "execution_count": null,
   "metadata": {},
   "outputs": [],
   "source": [
    "data10 = data.fillna(0) #fill NaN with 0"
   ]
  },
  {
   "cell_type": "code",
   "execution_count": null,
   "metadata": {},
   "outputs": [],
   "source": [
    "section_cols = data10.columns[3:] \n",
    "data10[section_cols] = data10[section_cols].replace([\"Y\"], 1) #replace Y with 1 in approriate columns"
   ]
  },
  {
   "cell_type": "code",
   "execution_count": null,
   "metadata": {},
   "outputs": [],
   "source": [
    "section_cols\n"
   ]
  },
  {
   "cell_type": "code",
   "execution_count": null,
   "metadata": {},
   "outputs": [],
   "source": [
    "data11 = data10.copy()"
   ]
  },
  {
   "cell_type": "code",
   "execution_count": null,
   "metadata": {},
   "outputs": [],
   "source": [
    "section_cols1  = data11.columns[3:] "
   ]
  },
  {
   "cell_type": "code",
   "execution_count": null,
   "metadata": {},
   "outputs": [],
   "source": [
    "data11[section_cols1] = np.where((data11[section_cols1]  != 1),0,data11[section_cols1] )\n",
    "data11"
   ]
  },
  {
   "cell_type": "code",
   "execution_count": null,
   "metadata": {},
   "outputs": [],
   "source": [
    "# Combining columns for index matching: (A6b, A6b.1, = A6b),  (C3b, C3b.1'= C3b) ('A7', 'A7.1', 'A7.2', = A7b, a7c),  (F = F2, F3)\n",
    "\n",
    "data11['A6b'] = (data11['A6b'] + data11['A6b.1'])\n",
    "data11['A6b'] = data11['A6b'].replace(2,1)\n",
    "data11['A6b'].value_counts()"
   ]
  },
  {
   "cell_type": "code",
   "execution_count": null,
   "metadata": {},
   "outputs": [],
   "source": [
    "data11['C3b'] = (data11['C3b'] + data11['C3b.1'])\n",
    "data11['C3b'] = data11['C3b'].replace(2,1)\n",
    "data11['C3b'].value_counts()"
   ]
  },
  {
   "cell_type": "code",
   "execution_count": null,
   "metadata": {},
   "outputs": [],
   "source": [
    "data11['A7'] = (data11['A7'] + data11['A7.1'] + data11['A7.2'])\n",
    "data11['A7'] = data11['A7'].replace(2,1)\n",
    "data11['A7'] = data11['A7'].replace(3,1)\n",
    "data11['A7'].value_counts()"
   ]
  },
  {
   "cell_type": "code",
   "execution_count": null,
   "metadata": {},
   "outputs": [],
   "source": [
    "data11 = data11.drop(['A6b.1', 'C3b.1', 'A7.1', 'A7.2'], axis = 1)"
   ]
  },
  {
   "cell_type": "code",
   "execution_count": 20,
   "metadata": {},
   "outputs": [
    {
     "data": {
      "text/plain": [
       "Index(['A2', 'A3', 'A4b', 'A4c', 'A5b', 'A5c', 'A5d', 'A6b', 'A6c', 'A6d2',\n",
       "       'A6d3', 'A7', 'B2a', 'B2b', 'C2', 'C3a', 'C3b', 'D2', 'D3b', 'D3c',\n",
       "       'D3d', 'D4', 'E2', 'E3', 'E4', 'E5', 'E6', 'E7', 'F'],\n",
       "      dtype='object')"
      ]
     },
     "execution_count": 20,
     "metadata": {},
     "output_type": "execute_result"
    }
   ],
   "source": [
    "section_cols1  = data11.columns[3:]\n",
    "section_cols1"
   ]
  },
  {
   "cell_type": "code",
   "execution_count": null,
   "metadata": {},
   "outputs": [],
   "source": [
    "truth_dict = {} # initiate dict\n",
    "for i, name in enumerate(data11.Name): # iterate through Comment Names\n",
    "    dict1 = {col:data11[col].iloc[i] for col in section_cols1} # locate this row's values for each column\n",
    "    list1 = [key.lower() for key,value in dict1.items() if value==1] # create list of matching sections for this row\n",
    "    name1 = str(name).split('DRAFT-')[1].split('-')[0] # format Comment Name\n",
    "    truth_dict[name1] = list1 # add Comment Name and list of matching sections to dict"
   ]
  },
  {
   "cell_type": "code",
   "execution_count": null,
   "metadata": {},
   "outputs": [],
   "source": [
    "truth_dict"
   ]
  },
  {
   "cell_type": "code",
   "execution_count": null,
   "metadata": {},
   "outputs": [],
   "source": [
    "num_matches = {key: len(value) for key, value in truth_dict.items()}\n",
    "num_matches"
   ]
  },
  {
   "cell_type": "markdown",
   "metadata": {},
   "source": [
    "## Header Index Testing"
   ]
  },
  {
   "cell_type": "code",
   "execution_count": 26,
   "metadata": {},
   "outputs": [],
   "source": [
    "import json\n",
    "with open('header_results.json') as f:\n",
    "    header_results_json = json.load(f)\n",
    "# comment_results1 = pd.read_csv('header_results.csv', header = None)\n",
    "# comment_json = json.load('header_results.json')"
   ]
  },
  {
   "cell_type": "code",
   "execution_count": 24,
   "metadata": {},
   "outputs": [],
   "source": [
    "for key,value in header_results_json.items():\n",
    "    value_list = []\n",
    "    for val_idx in value:\n",
    "        if val_idx in ['f2','f3']:\n",
    "            value_list.append('f')\n",
    "        if val_idx in ['a7b', 'a7c']:\n",
    "            value_list.append('a7')\n",
    "        else:\n",
    "            value_list.append(val_idx)\n",
    "    header_results_json[key]=value_list"
   ]
  },
  {
   "cell_type": "code",
   "execution_count": null,
   "metadata": {},
   "outputs": [],
   "source": [
    "header_results_json"
   ]
  },
  {
   "cell_type": "code",
   "execution_count": null,
   "metadata": {},
   "outputs": [],
   "source": [
    "# match_dict shows all true positives, without penalty to false categorization\n",
    "match_dict= {}\n",
    "for (key1, value1), (key2,value2) in zip(truth_dict.items(), header_results_json.items()):\n",
    "    match_count = 0\n",
    "    for val_idx in value1:\n",
    "        if val_idx in value2:\n",
    "            match_count += 1\n",
    "        match_dict[key1]=match_count/len(value1)"
   ]
  },
  {
   "cell_type": "code",
   "execution_count": null,
   "metadata": {},
   "outputs": [],
   "source": [
    "# unpenalized accuracy of true positives\n",
    "meanvals = np.mean(list(match_dict.values()))\n",
    "meanvals"
   ]
  },
  {
   "cell_type": "code",
   "execution_count": null,
   "metadata": {},
   "outputs": [],
   "source": [
    "# match_dict1 shows all true positives, with penalty to false categorization\n",
    "match_dict1= {}\n",
    "for (key1, value1), (key2,value2) in zip(truth_dict.items(), comment_json.items()):\n",
    "    match_count = 0\n",
    "    for val_idx in value2:\n",
    "        if val_idx in value1:\n",
    "            match_count += 1\n",
    "        match_dict1[key1]=match_count/len(value2)"
   ]
  },
  {
   "cell_type": "code",
   "execution_count": null,
   "metadata": {},
   "outputs": [],
   "source": [
    "# penalized accuracy of true positives\n",
    "meanvals1 = np.mean(list(match_dict1.values()))\n",
    "meanvals1"
   ]
  },
  {
   "cell_type": "markdown",
   "metadata": {},
   "source": [
    "## Hybrid Index Testing"
   ]
  },
  {
   "cell_type": "code",
   "execution_count": null,
   "metadata": {},
   "outputs": [],
   "source": [
    "import json\n",
    "with open('hybrid_results.json') as f:\n",
    "    hybrid_results_json = json.load(f)\n",
    "# comment_results1 = pd.read_csv('header_results.csv', header = None)\n",
    "# comment_json = json.load('header_results.json')"
   ]
  },
  {
   "cell_type": "code",
   "execution_count": 34,
   "metadata": {},
   "outputs": [],
   "source": [
    "test = {}\n",
    "for key, value in header_results_json.items():\n",
    "    keys = list(section_cols1)\n",
    "    keys = [key1.lower() for key1 in keys]\n",
    "    value_list = []\n",
    "    for true_key in keys:\n",
    "        for val_idx in value:\n",
    "            if true_key in val_idx and true_key not in value_list: \n",
    "                value_list.append(true_key)\n",
    "        test[key]=value_list            "
   ]
  },
  {
   "cell_type": "code",
   "execution_count": null,
   "metadata": {},
   "outputs": [],
   "source": [
    "test"
   ]
  },
  {
   "cell_type": "code",
   "execution_count": null,
   "metadata": {},
   "outputs": [],
   "source": [
    "# for key,value in hybrid_results_json.items():\n",
    "#     value_list = []\n",
    "#     for val_idx in value:\n",
    "#         if val_idx in ['a2','a20']:\n",
    "#             value_list.append('a2')\n",
    "#         if val_idx in ['a3','a30','a31','a32']:\n",
    "#             value_list.append('a3')\n",
    "#         if val_idx in ['a4b','a4b0']:\n",
    "#             value_list.append('a4b')     \n",
    "#         if val_idx in ['a4c','a4c0','a4c1','a4c10','a4c11', 'a4c12','a4c13','a4c14',\n",
    "#                        'a4c15','a4c16','a4c17','a4c18','a4c19','a4c2','a4c20','a4c21',\n",
    "#                        'a4c22','a4c23','a4c24','a4c25','a4c26','a4c27','a4c28','a4c29',\n",
    "#                        'a4c3','a4c30','a4c4','a4c5','a4c6','a4c7','a4c8','a4c9']:\n",
    "#             value_list.append('a4c')            \n",
    "#         if val_idx in ['a5b','a5b0']:\n",
    "#             value_list.append('a5b')            \n",
    "#         if val_idx in ['a5c','a5c0','a5c1','a5c2','a5c3']:\n",
    "#             value_list.append('a5c')\n",
    "#         if val_idx in ['a5d','a5d0']:\n",
    "#             value_list.append('a5d')\n",
    "#         if val_idx in ['a6b','a6b0']:\n",
    "#             value_list.append('a6b')            \n",
    "#         if val_idx in ['a6c','a6c0','a6c1','a6c10','a6c11', 'a6c12','a6c13','a6c14',\n",
    "#                        'a6c15','a6c16','a6c17','a6c18','a6cc19','a6c2','a6c20','a6c21',\n",
    "#                        'a6c22','a6c3','a6c4','a6c5','a6c6','a6c7','a6c8','a6c9']:\n",
    "#             value_list.append('a6c')             \n",
    "#         if val_idx in ['a6d2','a6d20']:\n",
    "#             value_list.append('a6d2')            \n",
    "#         if val_idx in ['a6d3','a6d30']:\n",
    "#             value_list.append('a6d3') \n",
    "#         if val_idx in ['a7b', 'a7b0','a7c','a7c0']:\n",
    "#             value_list.append('a7')\n",
    "#         if val_idx in ['b2a','b2a0']:\n",
    "#             value_list.append('b2a') \n",
    "#         if val_idx in ['b2b','b2b0']:\n",
    "#             value_list.append('b2b') \n",
    "#         if val_idx in ['c2','c20']:\n",
    "#             value_list.append('c2')\n",
    "#         if val_idx in ['c3a','c3a0']:\n",
    "#             value_list.append('c3a')\n",
    "#         if val_idx in ['c3b','c3b0','c3b1','c3b2']:\n",
    "#             value_list.append('c3b')\n",
    "#         if val_idx in ['d2','d20']:\n",
    "#             value_list.append('d2')            \n",
    "#         if val_idx in ['d3b','d3b0']:\n",
    "#             value_list.append('d3b')             \n",
    "#         if val_idx in ['d3c','d3c0']:\n",
    "#             value_list.append('d3c')\n",
    "#         if val_idx in ['d3d','d3d0']:\n",
    "#             value_list.append('d3d') \n",
    "#         if val_idx in ['d4','d40']:\n",
    "#             value_list.append('d4')            \n",
    "#         if val_idx in ['e2','e20']:\n",
    "#             value_list.append('e2')            \n",
    "#         if val_idx in ['e3','e30']:\n",
    "#             value_list.append('e3')\n",
    "#         if val_idx in ['e4','e40']:\n",
    "#             value_list.append('e4')            \n",
    "#         if val_idx in ['e5','e50']:\n",
    "#             value_list.append('e5')            \n",
    "#         if val_idx in ['e6','e60']:\n",
    "#             value_list.append('e6')\n",
    "#         if val_idx in ['e7','e70']:\n",
    "#             value_list.append('e7')            \n",
    "#         if val_idx in ['f2','f20','f3','f30']:\n",
    "#             value_list.append('f')            \n",
    "            \n",
    "#         else:\n",
    "#             value_list.append(val_idx)\n",
    "#     hybrid_results_json[key]=value_list"
   ]
  },
  {
   "cell_type": "code",
   "execution_count": null,
   "metadata": {},
   "outputs": [],
   "source": [
    "hybrid_results_json"
   ]
  },
  {
   "cell_type": "code",
   "execution_count": null,
   "metadata": {},
   "outputs": [],
   "source": [
    "# match_dict shows all true positives, without penalty to false categorization\n",
    "match_dict= {}\n",
    "for (key1, value1), (key2,value2) in zip(truth_dict.items(), hybrid_results_json.items()):\n",
    "    match_count = 0\n",
    "    for val_idx in value1:\n",
    "        if val_idx in value2:\n",
    "            match_count += 1\n",
    "        match_dict[key1]=match_count/len(value1)"
   ]
  },
  {
   "cell_type": "code",
   "execution_count": null,
   "metadata": {},
   "outputs": [],
   "source": [
    "# unpenalized accuracy of true positives\n",
    "meanvals = np.mean(list(match_dict.values()))\n",
    "meanvals"
   ]
  },
  {
   "cell_type": "code",
   "execution_count": null,
   "metadata": {},
   "outputs": [],
   "source": [
    "# match_dict1 shows all true positives, with penalty to false categorization\n",
    "match_dict1= {}\n",
    "for (key1, value1), (key2,value2) in zip(truth_dict.items(), hybrid_results_json.items()):\n",
    "    match_count = 0\n",
    "    for val_idx in value2:\n",
    "        if val_idx in value1:\n",
    "            match_count += 1\n",
    "        match_dict1[key1]=match_count/len(value2)"
   ]
  },
  {
   "cell_type": "code",
   "execution_count": null,
   "metadata": {},
   "outputs": [],
   "source": [
    "# penalized accuracy of true positives\n",
    "meanvals1 = np.mean(list(match_dict1.values()))\n",
    "meanvals1"
   ]
  },
  {
   "cell_type": "code",
   "execution_count": null,
   "metadata": {},
   "outputs": [],
   "source": []
  }
 ],
 "metadata": {
  "kernelspec": {
   "display_name": "Python 3",
   "language": "python",
   "name": "python3"
  },
  "language_info": {
   "codemirror_mode": {
    "name": "ipython",
    "version": 3
   },
   "file_extension": ".py",
   "mimetype": "text/x-python",
   "name": "python",
   "nbconvert_exporter": "python",
   "pygments_lexer": "ipython3",
   "version": "3.8.5"
  }
 },
 "nbformat": 4,
 "nbformat_minor": 4
}
